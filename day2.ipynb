{
 "cells": [
  {
   "cell_type": "code",
   "execution_count": 3,
   "metadata": {},
   "outputs": [],
   "source": [
    "import cv2\n",
    "import numpy as np\n",
    "\n",
    "cap = cv2.VideoCapture('D:/video.mp4')\n",
    "\n",
    "while cap.isOpened():\n",
    "    sucess,  frame = cap.read()\n",
    "    if sucess:\n",
    "        zeros = np.zeros((frame.shape[0],frame.shape[1]),np.uint8)\n",
    "        b,g,r =cv2.split(frame)\n",
    "        blue = cv2.merge([b , zeros ,zeros])\n",
    "        green =cv2.merge([zeros, g, zeros])\n",
    "        red = cv2.merge([zeros, zeros , r])\n",
    "        gray_frame = cv2.cvtColor(frame, cv2.COLOR_BGR2GRAY)\n",
    "        cv2.imshow('Frame',frame)\n",
    "        cv2.imshow('Gray Frame', gray_frame)\n",
    "        cv2.imshow('blue',blue)\n",
    "        cv2.imshow('green', green)\n",
    "        cv2.imshow('red', red)\n",
    "        k = cv2.waitKey(100)\n",
    "        if k & 0xff == ord('q'):\n",
    "            break\n",
    "    else:\n",
    "        break\n",
    "\n",
    "cap.release()\n",
    "cv2.destroyAllWindows()"
   ]
  },
  {
   "cell_type": "code",
   "execution_count": 4,
   "metadata": {},
   "outputs": [
    {
     "data": {
      "text/plain": [
       "<Figure size 640x480 with 1 Axes>"
      ]
     },
     "metadata": {},
     "output_type": "display_data"
    },
    {
     "data": {
      "text/plain": [
       "<Figure size 640x480 with 1 Axes>"
      ]
     },
     "metadata": {},
     "output_type": "display_data"
    },
    {
     "data": {
      "text/plain": [
       "<Figure size 640x480 with 1 Axes>"
      ]
     },
     "metadata": {},
     "output_type": "display_data"
    },
    {
     "data": {
      "text/plain": [
       "<Figure size 640x480 with 1 Axes>"
      ]
     },
     "metadata": {},
     "output_type": "display_data"
    }
   ],
   "source": [
    "import cv2 \n",
    "import matplotlib.pyplot as plt\n",
    "\n",
    "cap = cv2.VideoCapture(0)\n",
    "\n",
    "\n",
    "\n",
    "if not (cap.isOpened()):\n",
    "\n",
    "    print(\"Could not open video device\")\n",
    "while(True):\n",
    "    ret, frame = cap.read()\n",
    "    gray_frame=cv2.cvtColor(frame,cv2.COLOR_BGR2GRAY)\n",
    "    cv2.imshow('preview',frame)\n",
    "    cv2.imshow('gray',gray_frame)\n",
    "    plt.imshow(frame)\n",
    "    plt.imshow(gray_frame)\n",
    "    plt.show()\n",
    "    if cv2.waitKey(1) & 0xFF == ord('q'):\n",
    "\n",
    "        break\n",
    "cap.release()\n",
    "\n",
    "cv2.destroyAllWindows()"
   ]
  },
  {
   "cell_type": "code",
   "execution_count": null,
   "metadata": {},
   "outputs": [],
   "source": []
  }
 ],
 "metadata": {
  "kernelspec": {
   "display_name": "Python 3",
   "language": "python",
   "name": "python3"
  },
  "language_info": {
   "codemirror_mode": {
    "name": "ipython",
    "version": 3
   },
   "file_extension": ".py",
   "mimetype": "text/x-python",
   "name": "python",
   "nbconvert_exporter": "python",
   "pygments_lexer": "ipython3",
   "version": "3.7.0"
  }
 },
 "nbformat": 4,
 "nbformat_minor": 2
}
